{
 "cells": [
  {
   "cell_type": "code",
   "execution_count": 1,
   "id": "e66b4cbf",
   "metadata": {},
   "outputs": [],
   "source": [
    "# import libraries\n",
    "\n",
    "import requests\n",
    "import pandas as pd"
   ]
  },
  {
   "cell_type": "code",
   "execution_count": 2,
   "id": "cda1119f",
   "metadata": {},
   "outputs": [],
   "source": [
    "# create a request header\n",
    "\n",
    "headers = {'User-Agent':\"mmixon@seattleu.edu\"}"
   ]
  },
  {
   "cell_type": "code",
   "execution_count": 5,
   "id": "ced510ed",
   "metadata": {},
   "outputs": [],
   "source": [
    "# get all companies data\n",
    "\n",
    "companyTickers = requests.get(\"https://www.sec.gov/files/company_tickers.json\", headers=headers)"
   ]
  },
  {
   "cell_type": "code",
   "execution_count": 6,
   "id": "ca77ca95",
   "metadata": {},
   "outputs": [
    {
     "name": "stdout",
     "output_type": "stream",
     "text": [
      "1045810\n"
     ]
    }
   ],
   "source": [
    "# print(companyTickers.json()['0']['cik_str'])"
   ]
  },
  {
   "cell_type": "code",
   "execution_count": 7,
   "id": "4ef42ccc",
   "metadata": {},
   "outputs": [
    {
     "name": "stdout",
     "output_type": "stream",
     "text": [
      "       cik_str ticker                              title\n",
      "0      1045810   NVDA                        NVIDIA CORP\n",
      "1       789019   MSFT                     MICROSOFT CORP\n",
      "2       320193   AAPL                         Apple Inc.\n",
      "3      1018724   AMZN                     AMAZON COM INC\n",
      "4      1652044  GOOGL                      Alphabet Inc.\n",
      "...        ...    ...                                ...\n",
      "10055  1949257  RDPTF        Radiopharm Theranostics Ltd\n",
      "10056  1733968  WLGMF      West Red Lake Gold Mines Ltd.\n",
      "10057  1991946  CGBSW             Crown LNG Holdings Ltd\n",
      "10058  2038919  DWWYF        Dowway Holdings Limited/ADR\n",
      "10059  2042556  SPGDF  Springer Nature AG & Co. KGaA/ADR\n",
      "\n",
      "[10060 rows x 3 columns]\n"
     ]
    }
   ],
   "source": [
    "# set company's CIK number\n",
    "\n",
    "companyCIK = pd.DataFrame.from_dict(companyTickers.json(), orient='index')\n",
    "\n",
    "print(companyCIK)"
   ]
  },
  {
   "cell_type": "code",
   "execution_count": 8,
   "id": "e7ef10a5",
   "metadata": {},
   "outputs": [
    {
     "name": "stdout",
     "output_type": "stream",
     "text": [
      "          cik_str ticker                              title\n",
      "0      0001045810   NVDA                        NVIDIA CORP\n",
      "1      0000789019   MSFT                     MICROSOFT CORP\n",
      "2      0000320193   AAPL                         Apple Inc.\n",
      "3      0001018724   AMZN                     AMAZON COM INC\n",
      "4      0001652044  GOOGL                      Alphabet Inc.\n",
      "...           ...    ...                                ...\n",
      "10055  0001949257  RDPTF        Radiopharm Theranostics Ltd\n",
      "10056  0001733968  WLGMF      West Red Lake Gold Mines Ltd.\n",
      "10057  0001991946  CGBSW             Crown LNG Holdings Ltd\n",
      "10058  0002038919  DWWYF        Dowway Holdings Limited/ADR\n",
      "10059  0002042556  SPGDF  Springer Nature AG & Co. KGaA/ADR\n",
      "\n",
      "[10060 rows x 3 columns]\n"
     ]
    }
   ],
   "source": [
    "# add required leading zeros\n",
    "\n",
    "companyCIK['cik_str']=companyCIK['cik_str'].astype(str).str.zfill(10)\n",
    "\n",
    "print(companyCIK)"
   ]
  },
  {
   "cell_type": "code",
   "execution_count": 9,
   "id": "7f719ada",
   "metadata": {},
   "outputs": [
    {
     "name": "stdout",
     "output_type": "stream",
     "text": [
      "0001045810\n"
     ]
    }
   ],
   "source": [
    "# NVIDIA CORP CIK number\n",
    "\n",
    "cik = companyCIK[0:1].cik_str[0]\n",
    "\n",
    "print(cik)"
   ]
  },
  {
   "cell_type": "code",
   "execution_count": 11,
   "id": "50bb083b",
   "metadata": {},
   "outputs": [
    {
     "name": "stdout",
     "output_type": "stream",
     "text": [
      "dict_keys(['recent', 'files'])\n"
     ]
    }
   ],
   "source": [
    "# SEC filing API call (filing another request)\n",
    "\n",
    "companyFiling = requests.get(f'https://data.sec.gov/submissions/CIK{cik}.json', headers=headers)\n",
    "\n",
    "print(companyFiling.json()['filings'].keys())"
   ]
  },
  {
   "cell_type": "code",
   "execution_count": 12,
   "id": "16acce04",
   "metadata": {},
   "outputs": [
    {
     "name": "stdout",
     "output_type": "stream",
     "text": [
      "          accessionNumber  filingDate  reportDate        acceptanceDateTime  \\\n",
      "0    0001965301-25-000098  2025-07-11              2025-07-11T20:58:27.000Z   \n",
      "1    0001921094-25-000778  2025-07-11              2025-07-11T20:54:38.000Z   \n",
      "2    0001197649-25-000006  2025-07-10  2025-07-08  2025-07-10T23:30:00.000Z   \n",
      "3    0001045810-25-000188  2025-07-10  2025-07-08  2025-07-10T23:26:38.000Z   \n",
      "4    0001921094-25-000777  2025-07-10              2025-07-10T20:58:40.000Z   \n",
      "..                    ...         ...         ...                       ...   \n",
      "995  0001045810-17-000186  2017-12-15  2017-12-13  2017-12-15T22:45:32.000Z   \n",
      "996  0001045810-17-000184  2017-12-15  2017-12-13  2017-12-15T22:29:24.000Z   \n",
      "997  0001045810-17-000182  2017-12-15  2017-12-13  2017-12-15T22:23:59.000Z   \n",
      "998  0001045810-17-000180  2017-12-15  2017-12-13  2017-12-15T22:16:29.000Z   \n",
      "999  0001045810-17-000178  2017-12-15  2017-12-15  2017-12-15T21:31:03.000Z   \n",
      "\n",
      "    act form fileNumber filmNumber           items core_type    size  isXBRL  \\\n",
      "0    33  144  000-23985  251119523                       144   12727       0   \n",
      "1    33  144  000-23985  251119501                       144   12936       0   \n",
      "2          4                                               4   26614       0   \n",
      "3          4                                               4   20846       0   \n",
      "4    33  144  000-23985  251116865                       144   12892       0   \n",
      "..   ..  ...        ...        ...             ...       ...     ...     ...   \n",
      "995        4                                               4    6952       0   \n",
      "996        4                                               4    5186       0   \n",
      "997        4                                               4    5059       0   \n",
      "998        4                                               4    5104       0   \n",
      "999  34  8-K  000-23985  171259331  1.01,2.03,9.01       8-K  191290       0   \n",
      "\n",
      "     isInlineXBRL                          primaryDocument  \\\n",
      "0               0                xsl144X01/primary_doc.xml   \n",
      "1               0                xsl144X01/primary_doc.xml   \n",
      "2               0       xslF345X05/wk-form4_1752190192.xml   \n",
      "3               0       xslF345X05/wk-form4_1752189991.xml   \n",
      "4               0                xsl144X01/primary_doc.xml   \n",
      "..            ...                                      ...   \n",
      "995             0  xslF345X03/wf-form4_151337791829779.xml   \n",
      "996             0  xslF345X03/wf-form4_151337695054166.xml   \n",
      "997             0  xslF345X03/wf-form4_151337662575297.xml   \n",
      "998             0  xslF345X03/wf-form4_151337617560313.xml   \n",
      "999             0               form8-kcommercialpaper.htm   \n",
      "\n",
      "    primaryDocDescription  \n",
      "0                          \n",
      "1                          \n",
      "2                  FORM 4  \n",
      "3                  FORM 4  \n",
      "4                          \n",
      "..                    ...  \n",
      "995                FORM 4  \n",
      "996                FORM 4  \n",
      "997                FORM 4  \n",
      "998                FORM 4  \n",
      "999                   8-K  \n",
      "\n",
      "[1000 rows x 15 columns]\n"
     ]
    }
   ],
   "source": [
    "# view all filings by creating dataframe, retrieving most recent\n",
    "\n",
    "allFilings = pd.DataFrame.from_dict(companyFiling.json()['filings']['recent'])\n",
    "\n",
    "print(allFilings)"
   ]
  },
  {
   "cell_type": "code",
   "execution_count": 14,
   "id": "d299df90",
   "metadata": {},
   "outputs": [
    {
     "name": "stdout",
     "output_type": "stream",
     "text": [
      "Index(['accessionNumber', 'filingDate', 'reportDate', 'acceptanceDateTime',\n",
      "       'act', 'form', 'fileNumber', 'filmNumber', 'items', 'core_type', 'size',\n",
      "       'isXBRL', 'isInlineXBRL', 'primaryDocument', 'primaryDocDescription'],\n",
      "      dtype='object')\n"
     ]
    }
   ],
   "source": [
    "# print columns for cleaning up reference\n",
    "\n",
    "print(allFilings.columns)"
   ]
  },
  {
   "cell_type": "code",
   "execution_count": 16,
   "id": "1bfba70a",
   "metadata": {},
   "outputs": [
    {
     "name": "stdout",
     "output_type": "stream",
     "text": [
      "         accessionNumber  reportDate form\n",
      "0   0001965301-25-000098              144\n",
      "1   0001921094-25-000778              144\n",
      "2   0001197649-25-000006  2025-07-08    4\n",
      "3   0001045810-25-000188  2025-07-08    4\n",
      "4   0001921094-25-000777              144\n",
      "5   0001965301-25-000097              144\n",
      "6   0001921094-25-000773              144\n",
      "7   0001965301-25-000096              144\n",
      "8   0001921094-25-000771              144\n",
      "9   0001965301-25-000095              144\n",
      "10  0001197649-25-000004  2025-07-02    4\n",
      "11  0001045810-25-000186  2025-07-02    4\n",
      "12  0001921094-25-000760              144\n",
      "13  0001965301-25-000094              144\n",
      "14  0001921094-25-000757              144\n",
      "15  0001921094-25-000751              144\n",
      "16  0001965301-25-000092              144\n",
      "17  0001045810-25-000183  2025-06-30    4\n",
      "18  0001045810-25-000182  2025-06-27    4\n",
      "19  0001921094-25-000746              144\n",
      "20  0001965301-25-000089              144\n",
      "21  0001045810-25-000179  2025-06-25  8-K\n",
      "22  0001965301-25-000088              144\n",
      "23  0001225208-25-006216  2025-06-26    4\n",
      "24  0001045810-25-000178  2025-06-26    4\n",
      "25  0001045810-25-000177  2025-06-26    4\n",
      "26  0001045810-25-000176  2025-06-26    4\n",
      "27  0001045810-25-000175  2025-06-26    4\n",
      "28  0001045810-25-000174  2025-06-26    4\n",
      "29  0001045810-25-000173  2025-06-26    4\n",
      "30  0001045810-25-000172  2025-06-26    4\n",
      "31  0001045810-25-000171  2025-06-26    4\n",
      "32  0001045810-25-000170  2025-06-26    4\n",
      "33  0001045810-25-000169  2025-06-26    4\n",
      "34  0001045810-25-000168  2025-06-26    4\n",
      "35  0001921094-25-000740              144\n",
      "36  0001045810-25-000152  2025-06-25    4\n",
      "37  0001045810-25-000151  2025-06-25    4\n",
      "38  0001921094-25-000730              144\n",
      "39  0001965301-25-000086              144\n",
      "40  0001045810-25-000148  2025-06-24    4\n",
      "41  0001921094-25-000727              144\n",
      "42  0001965301-25-000084              144\n",
      "43  0001921094-25-000725              144\n",
      "44  0001921094-25-000724              144\n",
      "45  0001965301-25-000082              144\n",
      "46  0001045810-25-000146  2025-06-20    4\n",
      "47  0001921094-25-000714              144\n",
      "48  0001965301-25-000081              144\n",
      "49  0001045810-25-000144  2025-06-18    4\n"
     ]
    }
   ],
   "source": [
    "# viewing the individual accessionNumber, reportDate, and form  (top 50)\n",
    "\n",
    "print(allFilings[['accessionNumber', 'reportDate', 'form']].head(50))"
   ]
  },
  {
   "cell_type": "code",
   "execution_count": 17,
   "id": "fac4fc29",
   "metadata": {},
   "outputs": [
    {
     "name": "stdout",
     "output_type": "stream",
     "text": [
      "accessionNumber                        0001045810-25-000186\n",
      "filingDate                                       2025-07-07\n",
      "reportDate                                       2025-07-02\n",
      "acceptanceDateTime                 2025-07-08T00:29:56.000Z\n",
      "act                                                        \n",
      "form                                                      4\n",
      "fileNumber                                                 \n",
      "filmNumber                                                 \n",
      "items                                                      \n",
      "core_type                                                 4\n",
      "size                                                  19442\n",
      "isXBRL                                                    0\n",
      "isInlineXBRL                                              0\n",
      "primaryDocument          xslF345X05/wk-form4_1751934586.xml\n",
      "primaryDocDescription                                FORM 4\n",
      "Name: 11, dtype: object\n"
     ]
    }
   ],
   "source": [
    "# pull 11 individual filing from 'allFilings' column, using iloc method\n",
    "\n",
    "print(allFilings.iloc[11])"
   ]
  },
  {
   "cell_type": "code",
   "execution_count": 19,
   "id": "01f3bd72",
   "metadata": {},
   "outputs": [],
   "source": [
    "# using data from NVIDIA, define a function to retrieve financial data\n",
    "\n",
    "def get_data(cik, concept):\n",
    "    url = f\"https://data.sec.gov/api/xbrl/companyconcept/CIK{cik}/us-gaap/{concept}.json\"\n",
    "    res = requests.get(url, headers=headers)\n",
    "    if res.status_code == 200:\n",
    "        try:\n",
    "            df = pd.DataFrame(res.json()['units']['USD'])\n",
    "            df['concept'] = concept\n",
    "            return df\n",
    "        except:\n",
    "            return pd.DataFrame()\n",
    "    else:\n",
    "        return pd.DataFrame()"
   ]
  },
  {
   "cell_type": "code",
   "execution_count": 20,
   "id": "16f01fb5",
   "metadata": {},
   "outputs": [],
   "source": [
    "# define financial tags\n",
    "\n",
    "tags = [\n",
    "    'RevenueFromContractWithCustomerExcludingAssessedTax',  # revenue\n",
    "    'Assets',\n",
    "    'NetIncomeLoss',\n",
    "    'Liabilities',\n",
    "    'CashAndCashEquivalentsAtCarryingValue'\n",
    "]"
   ]
  },
  {
   "cell_type": "code",
   "execution_count": 22,
   "id": "fd4e14ce",
   "metadata": {},
   "outputs": [],
   "source": [
    "# combine into one DataFrame\n",
    "\n",
    "all_data = pd.DataFrame()\n",
    "for tag in tags:\n",
    "    df = get_data(cik, tag)\n",
    "    if not df.empty:\n",
    "        df['concept'] = tag\n",
    "        all_data = pd.concat([all_data, df], ignore_index=True)"
   ]
  },
  {
   "cell_type": "code",
   "execution_count": 23,
   "id": "b8560454",
   "metadata": {},
   "outputs": [],
   "source": [
    "# cleaning up reference\n",
    "\n",
    "all_data = all_data[['start', 'end', 'val', 'concept', 'accn', 'fy', 'fp', 'form', 'filed']]\n",
    "all_data.rename(columns={\n",
    "    'start': 'Start Date',\n",
    "    'end': 'End Date',\n",
    "    'val': 'Value',\n",
    "    'concept': 'Concept',\n",
    "    'accn': 'Accession Number',\n",
    "    'fy': 'Fiscal Year',\n",
    "    'fp': 'Fiscal Period',\n",
    "    'form': 'Form',\n",
    "    'filed': 'Filed Date'\n",
    "}, inplace=True)"
   ]
  },
  {
   "cell_type": "code",
   "execution_count": 26,
   "id": "39a427a0",
   "metadata": {},
   "outputs": [
    {
     "name": "stdout",
     "output_type": "stream",
     "text": [
      "    Start Date    End Date        Value  \\\n",
      "0   2016-02-01  2017-01-29   6910000000   \n",
      "1   2017-01-30  2017-04-30   1937000000   \n",
      "2   2017-05-01  2017-07-30   2230000000   \n",
      "3   2017-07-31  2017-10-29   2636000000   \n",
      "4   2017-01-30  2018-01-28   9714000000   \n",
      "5   2017-01-30  2018-01-28   9714000000   \n",
      "6   2017-10-30  2018-01-28   2911000000   \n",
      "7   2018-01-29  2018-04-29   3207000000   \n",
      "8   2018-01-29  2018-04-29   3207000000   \n",
      "9   2018-04-30  2018-07-29   3123000000   \n",
      "10  2018-04-30  2018-07-29   3123000000   \n",
      "11  2018-07-30  2018-10-28   3181000000   \n",
      "12  2018-07-30  2018-10-28   3181000000   \n",
      "13  2018-01-29  2019-01-27  11716000000   \n",
      "14  2018-01-29  2019-01-27  11716000000   \n",
      "15  2018-01-29  2019-01-27  11716000000   \n",
      "16  2018-10-29  2019-01-27   2205000000   \n",
      "17  2018-10-29  2019-01-27   2205000000   \n",
      "18  2019-01-28  2019-04-28   2220000000   \n",
      "19  2019-04-29  2019-07-28   2579000000   \n",
      "\n",
      "                                              Concept      Accession Number  \\\n",
      "0   RevenueFromContractWithCustomerExcludingAssess...  0001045810-19-000023   \n",
      "1   RevenueFromContractWithCustomerExcludingAssess...  0001045810-19-000023   \n",
      "2   RevenueFromContractWithCustomerExcludingAssess...  0001045810-19-000023   \n",
      "3   RevenueFromContractWithCustomerExcludingAssess...  0001045810-19-000023   \n",
      "4   RevenueFromContractWithCustomerExcludingAssess...  0001045810-19-000023   \n",
      "5   RevenueFromContractWithCustomerExcludingAssess...  0001045810-20-000010   \n",
      "6   RevenueFromContractWithCustomerExcludingAssess...  0001045810-19-000023   \n",
      "7   RevenueFromContractWithCustomerExcludingAssess...  0001045810-19-000023   \n",
      "8   RevenueFromContractWithCustomerExcludingAssess...  0001045810-20-000010   \n",
      "9   RevenueFromContractWithCustomerExcludingAssess...  0001045810-19-000023   \n",
      "10  RevenueFromContractWithCustomerExcludingAssess...  0001045810-20-000010   \n",
      "11  RevenueFromContractWithCustomerExcludingAssess...  0001045810-19-000023   \n",
      "12  RevenueFromContractWithCustomerExcludingAssess...  0001045810-20-000010   \n",
      "13  RevenueFromContractWithCustomerExcludingAssess...  0001045810-19-000023   \n",
      "14  RevenueFromContractWithCustomerExcludingAssess...  0001045810-20-000010   \n",
      "15  RevenueFromContractWithCustomerExcludingAssess...  0001045810-21-000010   \n",
      "16  RevenueFromContractWithCustomerExcludingAssess...  0001045810-19-000023   \n",
      "17  RevenueFromContractWithCustomerExcludingAssess...  0001045810-20-000010   \n",
      "18  RevenueFromContractWithCustomerExcludingAssess...  0001045810-20-000010   \n",
      "19  RevenueFromContractWithCustomerExcludingAssess...  0001045810-20-000010   \n",
      "\n",
      "    Fiscal Year Fiscal Period  Form  Filed Date  \n",
      "0          2019            FY  10-K  2019-02-21  \n",
      "1          2019            FY  10-K  2019-02-21  \n",
      "2          2019            FY  10-K  2019-02-21  \n",
      "3          2019            FY  10-K  2019-02-21  \n",
      "4          2019            FY  10-K  2019-02-21  \n",
      "5          2020            FY  10-K  2020-02-20  \n",
      "6          2019            FY  10-K  2019-02-21  \n",
      "7          2019            FY  10-K  2019-02-21  \n",
      "8          2020            FY  10-K  2020-02-20  \n",
      "9          2019            FY  10-K  2019-02-21  \n",
      "10         2020            FY  10-K  2020-02-20  \n",
      "11         2019            FY  10-K  2019-02-21  \n",
      "12         2020            FY  10-K  2020-02-20  \n",
      "13         2019            FY  10-K  2019-02-21  \n",
      "14         2020            FY  10-K  2020-02-20  \n",
      "15         2021            FY  10-K  2021-02-26  \n",
      "16         2019            FY  10-K  2019-02-21  \n",
      "17         2020            FY  10-K  2020-02-20  \n",
      "18         2020            FY  10-K  2020-02-20  \n",
      "19         2020            FY  10-K  2020-02-20  \n"
     ]
    }
   ],
   "source": [
    "# view top 20 rows\n",
    "\n",
    "print(all_data.head(20))"
   ]
  },
  {
   "cell_type": "code",
   "execution_count": null,
   "id": "bfe5c93a",
   "metadata": {},
   "outputs": [],
   "source": []
  }
 ],
 "metadata": {
  "kernelspec": {
   "display_name": "Python 3 (ipykernel)",
   "language": "python",
   "name": "python3"
  },
  "language_info": {
   "codemirror_mode": {
    "name": "ipython",
    "version": 3
   },
   "file_extension": ".py",
   "mimetype": "text/x-python",
   "name": "python",
   "nbconvert_exporter": "python",
   "pygments_lexer": "ipython3",
   "version": "3.11.4"
  }
 },
 "nbformat": 4,
 "nbformat_minor": 5
}
